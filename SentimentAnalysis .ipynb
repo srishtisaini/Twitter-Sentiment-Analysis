{
  "nbformat": 4,
  "nbformat_minor": 0,
  "metadata": {
    "colab": {
      "name": "Sentiment Analysis.ipynb",
      "provenance": [],
      "collapsed_sections": []
    },
    "kernelspec": {
      "display_name": "Python 3",
      "name": "python3"
    }
  },
  "cells": [
    {
      "cell_type": "code",
      "metadata": {
        "colab": {
          "base_uri": "https://localhost:8080/"
        },
        "id": "uSVBLflxPuxF",
        "outputId": "fb30137c-c564-48ba-aff4-87f6c3fc2fd2"
      },
      "source": [
        "from google.colab import drive\n",
        "drive.mount('/content/gdrive')"
      ],
      "execution_count": 2,
      "outputs": [
        {
          "output_type": "stream",
          "text": [
            "Drive already mounted at /content/gdrive; to attempt to forcibly remount, call drive.mount(\"/content/gdrive\", force_remount=True).\n"
          ],
          "name": "stdout"
        }
      ]
    },
    {
      "cell_type": "code",
      "metadata": {
        "id": "Go7Xxyj0Pvjd"
      },
      "source": [
        "import numpy as np \n",
        "import pandas as pd \n",
        "import seaborn as sns \n",
        "import matplotlib.pyplot as plt\n",
        "plt.style.use('ggplot')\n",
        "from sklearn.metrics import classification_report, confusion_matrix\n",
        "import nltk\n",
        "from nltk.corpus import stopwords\n",
        "from keras.preprocessing.text import text_to_word_sequence\n",
        "from nltk.stem import PorterStemmer \n",
        "from sklearn.model_selection import train_test_split\n",
        "from mlxtend.plotting import plot_confusion_matrix\n",
        "import matplotlib.cm as cm\n",
        "from matplotlib import rcParams\n",
        "from collections import Counter\n",
        "from nltk.tokenize import word_tokenize\n",
        "from nltk.tokenize import RegexpTokenizer\n",
        "import re\n",
        "import string\n",
        "from tensorflow.keras.layers import LSTM, Activation, Dense, Dropout, Input, Embedding\n",
        "from tensorflow.keras.models import Model\n",
        "from tensorflow.keras.optimizers import RMSprop\n",
        "from tensorflow.keras.preprocessing.text import Tokenizer\n",
        "from tensorflow.keras.preprocessing import sequence\n",
        "%matplotlib inline\n",
        "\n",
        "import warnings\n",
        "warnings.filterwarnings(\"ignore\")"
      ],
      "execution_count": 3,
      "outputs": []
    },
    {
      "cell_type": "code",
      "metadata": {
        "id": "26jZpaCiTGGh"
      },
      "source": [
        "data = pd.read_csv(\"/content/gdrive/MyDrive/training.1600000.processed.noemoticon.csv\", encoding = \"ISO-8859-1\")\n",
        "data.columns = ['label', 'time', 'date', 'query', 'username', 'text']"
      ],
      "execution_count": 4,
      "outputs": []
    },
    {
      "cell_type": "code",
      "metadata": {
        "colab": {
          "base_uri": "https://localhost:8080/",
          "height": 335
        },
        "id": "8GDHAjr5Vp9X",
        "outputId": "2e80452d-68df-4529-f6ed-0aa1296f5fcf"
      },
      "source": [
        "data.head(10)"
      ],
      "execution_count": 5,
      "outputs": [
        {
          "output_type": "execute_result",
          "data": {
            "text/html": [
              "<div>\n",
              "<style scoped>\n",
              "    .dataframe tbody tr th:only-of-type {\n",
              "        vertical-align: middle;\n",
              "    }\n",
              "\n",
              "    .dataframe tbody tr th {\n",
              "        vertical-align: top;\n",
              "    }\n",
              "\n",
              "    .dataframe thead th {\n",
              "        text-align: right;\n",
              "    }\n",
              "</style>\n",
              "<table border=\"1\" class=\"dataframe\">\n",
              "  <thead>\n",
              "    <tr style=\"text-align: right;\">\n",
              "      <th></th>\n",
              "      <th>label</th>\n",
              "      <th>time</th>\n",
              "      <th>date</th>\n",
              "      <th>query</th>\n",
              "      <th>username</th>\n",
              "      <th>text</th>\n",
              "    </tr>\n",
              "  </thead>\n",
              "  <tbody>\n",
              "    <tr>\n",
              "      <th>0</th>\n",
              "      <td>0</td>\n",
              "      <td>1467810672</td>\n",
              "      <td>Mon Apr 06 22:19:49 PDT 2009</td>\n",
              "      <td>NO_QUERY</td>\n",
              "      <td>scotthamilton</td>\n",
              "      <td>is upset that he can't update his Facebook by ...</td>\n",
              "    </tr>\n",
              "    <tr>\n",
              "      <th>1</th>\n",
              "      <td>0</td>\n",
              "      <td>1467810917</td>\n",
              "      <td>Mon Apr 06 22:19:53 PDT 2009</td>\n",
              "      <td>NO_QUERY</td>\n",
              "      <td>mattycus</td>\n",
              "      <td>@Kenichan I dived many times for the ball. Man...</td>\n",
              "    </tr>\n",
              "    <tr>\n",
              "      <th>2</th>\n",
              "      <td>0</td>\n",
              "      <td>1467811184</td>\n",
              "      <td>Mon Apr 06 22:19:57 PDT 2009</td>\n",
              "      <td>NO_QUERY</td>\n",
              "      <td>ElleCTF</td>\n",
              "      <td>my whole body feels itchy and like its on fire</td>\n",
              "    </tr>\n",
              "    <tr>\n",
              "      <th>3</th>\n",
              "      <td>0</td>\n",
              "      <td>1467811193</td>\n",
              "      <td>Mon Apr 06 22:19:57 PDT 2009</td>\n",
              "      <td>NO_QUERY</td>\n",
              "      <td>Karoli</td>\n",
              "      <td>@nationwideclass no, it's not behaving at all....</td>\n",
              "    </tr>\n",
              "    <tr>\n",
              "      <th>4</th>\n",
              "      <td>0</td>\n",
              "      <td>1467811372</td>\n",
              "      <td>Mon Apr 06 22:20:00 PDT 2009</td>\n",
              "      <td>NO_QUERY</td>\n",
              "      <td>joy_wolf</td>\n",
              "      <td>@Kwesidei not the whole crew</td>\n",
              "    </tr>\n",
              "    <tr>\n",
              "      <th>5</th>\n",
              "      <td>0</td>\n",
              "      <td>1467811592</td>\n",
              "      <td>Mon Apr 06 22:20:03 PDT 2009</td>\n",
              "      <td>NO_QUERY</td>\n",
              "      <td>mybirch</td>\n",
              "      <td>Need a hug</td>\n",
              "    </tr>\n",
              "    <tr>\n",
              "      <th>6</th>\n",
              "      <td>0</td>\n",
              "      <td>1467811594</td>\n",
              "      <td>Mon Apr 06 22:20:03 PDT 2009</td>\n",
              "      <td>NO_QUERY</td>\n",
              "      <td>coZZ</td>\n",
              "      <td>@LOLTrish hey  long time no see! Yes.. Rains a...</td>\n",
              "    </tr>\n",
              "    <tr>\n",
              "      <th>7</th>\n",
              "      <td>0</td>\n",
              "      <td>1467811795</td>\n",
              "      <td>Mon Apr 06 22:20:05 PDT 2009</td>\n",
              "      <td>NO_QUERY</td>\n",
              "      <td>2Hood4Hollywood</td>\n",
              "      <td>@Tatiana_K nope they didn't have it</td>\n",
              "    </tr>\n",
              "    <tr>\n",
              "      <th>8</th>\n",
              "      <td>0</td>\n",
              "      <td>1467812025</td>\n",
              "      <td>Mon Apr 06 22:20:09 PDT 2009</td>\n",
              "      <td>NO_QUERY</td>\n",
              "      <td>mimismo</td>\n",
              "      <td>@twittera que me muera ?</td>\n",
              "    </tr>\n",
              "    <tr>\n",
              "      <th>9</th>\n",
              "      <td>0</td>\n",
              "      <td>1467812416</td>\n",
              "      <td>Mon Apr 06 22:20:16 PDT 2009</td>\n",
              "      <td>NO_QUERY</td>\n",
              "      <td>erinx3leannexo</td>\n",
              "      <td>spring break in plain city... it's snowing</td>\n",
              "    </tr>\n",
              "  </tbody>\n",
              "</table>\n",
              "</div>"
            ],
            "text/plain": [
              "   label  ...                                               text\n",
              "0      0  ...  is upset that he can't update his Facebook by ...\n",
              "1      0  ...  @Kenichan I dived many times for the ball. Man...\n",
              "2      0  ...    my whole body feels itchy and like its on fire \n",
              "3      0  ...  @nationwideclass no, it's not behaving at all....\n",
              "4      0  ...                      @Kwesidei not the whole crew \n",
              "5      0  ...                                        Need a hug \n",
              "6      0  ...  @LOLTrish hey  long time no see! Yes.. Rains a...\n",
              "7      0  ...               @Tatiana_K nope they didn't have it \n",
              "8      0  ...                          @twittera que me muera ? \n",
              "9      0  ...        spring break in plain city... it's snowing \n",
              "\n",
              "[10 rows x 6 columns]"
            ]
          },
          "metadata": {
            "tags": []
          },
          "execution_count": 5
        }
      ]
    },
    {
      "cell_type": "code",
      "metadata": {
        "colab": {
          "base_uri": "https://localhost:8080/"
        },
        "id": "jynyyCvfVsaU",
        "outputId": "e96f56a5-223c-4d72-d4d0-fbc9e860f746"
      },
      "source": [
        "data.columns"
      ],
      "execution_count": 6,
      "outputs": [
        {
          "output_type": "execute_result",
          "data": {
            "text/plain": [
              "Index(['label', 'time', 'date', 'query', 'username', 'text'], dtype='object')"
            ]
          },
          "metadata": {
            "tags": []
          },
          "execution_count": 6
        }
      ]
    },
    {
      "cell_type": "code",
      "metadata": {
        "colab": {
          "base_uri": "https://localhost:8080/"
        },
        "id": "-IULnwNPfvUJ",
        "outputId": "4c76060a-8b4d-4d15-a8da-fe72e0520278"
      },
      "source": [
        "print(\"the length of the data is\", len(data))"
      ],
      "execution_count": 7,
      "outputs": [
        {
          "output_type": "stream",
          "text": [
            "the length of the data is 1599999\n"
          ],
          "name": "stdout"
        }
      ]
    },
    {
      "cell_type": "code",
      "metadata": {
        "colab": {
          "base_uri": "https://localhost:8080/"
        },
        "id": "7VQGrhTKf2Om",
        "outputId": "34b5d12f-5622-451f-c94a-f718fcc174e1"
      },
      "source": [
        "print(data.shape)"
      ],
      "execution_count": 8,
      "outputs": [
        {
          "output_type": "stream",
          "text": [
            "(1599999, 6)\n"
          ],
          "name": "stdout"
        }
      ]
    },
    {
      "cell_type": "code",
      "metadata": {
        "colab": {
          "base_uri": "https://localhost:8080/"
        },
        "id": "79ps1_Q1f5Xi",
        "outputId": "9e25a6a8-97b4-47c6-e527-042c9bf86869"
      },
      "source": [
        "data.info()"
      ],
      "execution_count": 9,
      "outputs": [
        {
          "output_type": "stream",
          "text": [
            "<class 'pandas.core.frame.DataFrame'>\n",
            "RangeIndex: 1599999 entries, 0 to 1599998\n",
            "Data columns (total 6 columns):\n",
            " #   Column    Non-Null Count    Dtype \n",
            "---  ------    --------------    ----- \n",
            " 0   label     1599999 non-null  int64 \n",
            " 1   time      1599999 non-null  int64 \n",
            " 2   date      1599999 non-null  object\n",
            " 3   query     1599999 non-null  object\n",
            " 4   username  1599999 non-null  object\n",
            " 5   text      1599999 non-null  object\n",
            "dtypes: int64(2), object(4)\n",
            "memory usage: 73.2+ MB\n"
          ],
          "name": "stdout"
        }
      ]
    },
    {
      "cell_type": "code",
      "metadata": {
        "colab": {
          "base_uri": "https://localhost:8080/",
          "height": 277
        },
        "id": "OM5eZNPWf-gg",
        "outputId": "50410fcf-8633-4c78-c1c7-f16cc05f2128"
      },
      "source": [
        "data.describe()"
      ],
      "execution_count": 10,
      "outputs": [
        {
          "output_type": "execute_result",
          "data": {
            "text/html": [
              "<div>\n",
              "<style scoped>\n",
              "    .dataframe tbody tr th:only-of-type {\n",
              "        vertical-align: middle;\n",
              "    }\n",
              "\n",
              "    .dataframe tbody tr th {\n",
              "        vertical-align: top;\n",
              "    }\n",
              "\n",
              "    .dataframe thead th {\n",
              "        text-align: right;\n",
              "    }\n",
              "</style>\n",
              "<table border=\"1\" class=\"dataframe\">\n",
              "  <thead>\n",
              "    <tr style=\"text-align: right;\">\n",
              "      <th></th>\n",
              "      <th>label</th>\n",
              "      <th>time</th>\n",
              "    </tr>\n",
              "  </thead>\n",
              "  <tbody>\n",
              "    <tr>\n",
              "      <th>count</th>\n",
              "      <td>1.599999e+06</td>\n",
              "      <td>1.599999e+06</td>\n",
              "    </tr>\n",
              "    <tr>\n",
              "      <th>mean</th>\n",
              "      <td>2.000001e+00</td>\n",
              "      <td>1.998818e+09</td>\n",
              "    </tr>\n",
              "    <tr>\n",
              "      <th>std</th>\n",
              "      <td>2.000001e+00</td>\n",
              "      <td>1.935757e+08</td>\n",
              "    </tr>\n",
              "    <tr>\n",
              "      <th>min</th>\n",
              "      <td>0.000000e+00</td>\n",
              "      <td>1.467811e+09</td>\n",
              "    </tr>\n",
              "    <tr>\n",
              "      <th>25%</th>\n",
              "      <td>0.000000e+00</td>\n",
              "      <td>1.956916e+09</td>\n",
              "    </tr>\n",
              "    <tr>\n",
              "      <th>50%</th>\n",
              "      <td>4.000000e+00</td>\n",
              "      <td>2.002102e+09</td>\n",
              "    </tr>\n",
              "    <tr>\n",
              "      <th>75%</th>\n",
              "      <td>4.000000e+00</td>\n",
              "      <td>2.177059e+09</td>\n",
              "    </tr>\n",
              "    <tr>\n",
              "      <th>max</th>\n",
              "      <td>4.000000e+00</td>\n",
              "      <td>2.329206e+09</td>\n",
              "    </tr>\n",
              "  </tbody>\n",
              "</table>\n",
              "</div>"
            ],
            "text/plain": [
              "              label          time\n",
              "count  1.599999e+06  1.599999e+06\n",
              "mean   2.000001e+00  1.998818e+09\n",
              "std    2.000001e+00  1.935757e+08\n",
              "min    0.000000e+00  1.467811e+09\n",
              "25%    0.000000e+00  1.956916e+09\n",
              "50%    4.000000e+00  2.002102e+09\n",
              "75%    4.000000e+00  2.177059e+09\n",
              "max    4.000000e+00  2.329206e+09"
            ]
          },
          "metadata": {
            "tags": []
          },
          "execution_count": 10
        }
      ]
    },
    {
      "cell_type": "code",
      "metadata": {
        "colab": {
          "base_uri": "https://localhost:8080/"
        },
        "id": "2iG3GmMkgDys",
        "outputId": "1d2890e9-c066-4688-d8b7-77938326b8af"
      },
      "source": [
        "data.isnull().sum()"
      ],
      "execution_count": 11,
      "outputs": [
        {
          "output_type": "execute_result",
          "data": {
            "text/plain": [
              "label       0\n",
              "time        0\n",
              "date        0\n",
              "query       0\n",
              "username    0\n",
              "text        0\n",
              "dtype: int64"
            ]
          },
          "metadata": {
            "tags": []
          },
          "execution_count": 11
        }
      ]
    },
    {
      "cell_type": "code",
      "metadata": {
        "colab": {
          "base_uri": "https://localhost:8080/"
        },
        "id": "L8JJMQVBgJuC",
        "outputId": "318366c1-369a-476f-c114-ec684ee1b668"
      },
      "source": [
        "data.dtypes"
      ],
      "execution_count": 12,
      "outputs": [
        {
          "output_type": "execute_result",
          "data": {
            "text/plain": [
              "label        int64\n",
              "time         int64\n",
              "date        object\n",
              "query       object\n",
              "username    object\n",
              "text        object\n",
              "dtype: object"
            ]
          },
          "metadata": {
            "tags": []
          },
          "execution_count": 12
        }
      ]
    },
    {
      "cell_type": "code",
      "metadata": {
        "colab": {
          "base_uri": "https://localhost:8080/"
        },
        "id": "XLhhmDC2gPfB",
        "outputId": "464d5b3c-97d7-4e75-baba-bf252eb2b673"
      },
      "source": [
        "print(data.label)"
      ],
      "execution_count": 13,
      "outputs": [
        {
          "output_type": "stream",
          "text": [
            "0          0\n",
            "1          0\n",
            "2          0\n",
            "3          0\n",
            "4          0\n",
            "          ..\n",
            "1599994    4\n",
            "1599995    4\n",
            "1599996    4\n",
            "1599997    4\n",
            "1599998    4\n",
            "Name: label, Length: 1599999, dtype: int64\n"
          ],
          "name": "stdout"
        }
      ]
    },
    {
      "cell_type": "code",
      "metadata": {
        "id": "NGzoVM4mgeLA"
      },
      "source": [
        "data = data[['text', 'label']]"
      ],
      "execution_count": 14,
      "outputs": []
    },
    {
      "cell_type": "code",
      "metadata": {
        "id": "AhxGOtvqg9e8"
      },
      "source": [
        "data['label'][data['label']==4]=1"
      ],
      "execution_count": 15,
      "outputs": []
    },
    {
      "cell_type": "code",
      "metadata": {
        "id": "mg2945XBj4yq"
      },
      "source": [
        "data_pos = data[data['label'] == 1]\n",
        "data_neg = data[data['label'] == 0]"
      ],
      "execution_count": 16,
      "outputs": []
    },
    {
      "cell_type": "code",
      "metadata": {
        "colab": {
          "base_uri": "https://localhost:8080/"
        },
        "id": "R-YFsmmvnLjy",
        "outputId": "4de849e9-ed0e-4641-c4c7-365da174c75c"
      },
      "source": [
        "print(data_pos)"
      ],
      "execution_count": 17,
      "outputs": [
        {
          "output_type": "stream",
          "text": [
            "                                                      text  label\n",
            "799999        I LOVE @Health4UandPets u guys r the best!!       1\n",
            "800000   im meeting up with one of my besties tonight! ...      1\n",
            "800001   @DaRealSunisaKim Thanks for the Twitter add, S...      1\n",
            "800002   Being sick can be really cheap when it hurts t...      1\n",
            "800003     @LovesBrooklyn2 he has that effect on everyone       1\n",
            "...                                                    ...    ...\n",
            "1599994  Just woke up. Having no school is the best fee...      1\n",
            "1599995  TheWDB.com - Very cool to hear old Walt interv...      1\n",
            "1599996  Are you ready for your MoJo Makeover? Ask me f...      1\n",
            "1599997  Happy 38th Birthday to my boo of alll time!!! ...      1\n",
            "1599998  happy #charitytuesday @theNSPCC @SparksCharity...      1\n",
            "\n",
            "[800000 rows x 2 columns]\n"
          ],
          "name": "stdout"
        }
      ]
    },
    {
      "cell_type": "code",
      "metadata": {
        "colab": {
          "base_uri": "https://localhost:8080/"
        },
        "id": "ZoJ4TgX7nOeB",
        "outputId": "2c138ce7-c06b-4cdc-c083-de4581f2d8f2"
      },
      "source": [
        "print(data_neg)"
      ],
      "execution_count": 18,
      "outputs": [
        {
          "output_type": "stream",
          "text": [
            "                                                     text  label\n",
            "0       is upset that he can't update his Facebook by ...      0\n",
            "1       @Kenichan I dived many times for the ball. Man...      0\n",
            "2         my whole body feels itchy and like its on fire       0\n",
            "3       @nationwideclass no, it's not behaving at all....      0\n",
            "4                           @Kwesidei not the whole crew       0\n",
            "...                                                   ...    ...\n",
            "799994  Sick  Spending my day laying in bed listening ...      0\n",
            "799995                                    Gmail is down?       0\n",
            "799996                      rest in peace Farrah! So sad       0\n",
            "799997  @Eric_Urbane Sounds like a rival is flagging y...      0\n",
            "799998  has to resit exams over summer...  wishes he w...      0\n",
            "\n",
            "[799999 rows x 2 columns]\n"
          ],
          "name": "stdout"
        }
      ]
    },
    {
      "cell_type": "code",
      "metadata": {
        "id": "KCPsuVWVnTqz"
      },
      "source": [
        "data_pos = data_pos.iloc[:int(20000)]\n",
        "data_neg = data_neg.iloc[:int(20000)]"
      ],
      "execution_count": 19,
      "outputs": []
    },
    {
      "cell_type": "code",
      "metadata": {
        "id": "nAqFV_SgoVkW"
      },
      "source": [
        "data_combine = pd.concat([data_pos, data_neg])"
      ],
      "execution_count": 20,
      "outputs": []
    },
    {
      "cell_type": "code",
      "metadata": {
        "id": "JK34RDKzoOe6"
      },
      "source": [
        "data['text'] = data['text'].str.lower()"
      ],
      "execution_count": 21,
      "outputs": []
    },
    {
      "cell_type": "code",
      "metadata": {
        "colab": {
          "base_uri": "https://localhost:8080/"
        },
        "id": "aagyd_T1o5ll",
        "outputId": "c586625f-29f8-4eef-f56d-32a2de004a81"
      },
      "source": [
        "print(data['text'])"
      ],
      "execution_count": 22,
      "outputs": [
        {
          "output_type": "stream",
          "text": [
            "0          is upset that he can't update his facebook by ...\n",
            "1          @kenichan i dived many times for the ball. man...\n",
            "2            my whole body feels itchy and like its on fire \n",
            "3          @nationwideclass no, it's not behaving at all....\n",
            "4                              @kwesidei not the whole crew \n",
            "                                 ...                        \n",
            "1599994    just woke up. having no school is the best fee...\n",
            "1599995    thewdb.com - very cool to hear old walt interv...\n",
            "1599996    are you ready for your mojo makeover? ask me f...\n",
            "1599997    happy 38th birthday to my boo of alll time!!! ...\n",
            "1599998    happy #charitytuesday @thenspcc @sparkscharity...\n",
            "Name: text, Length: 1599999, dtype: object\n"
          ],
          "name": "stdout"
        }
      ]
    },
    {
      "cell_type": "code",
      "metadata": {
        "id": "G-u86drCpxwN"
      },
      "source": [
        "from nltk.corpus import stopwords"
      ],
      "execution_count": 23,
      "outputs": []
    },
    {
      "cell_type": "code",
      "metadata": {
        "id": "KDbcxnsPqcxw"
      },
      "source": [
        "import nltk"
      ],
      "execution_count": 24,
      "outputs": []
    },
    {
      "cell_type": "code",
      "metadata": {
        "colab": {
          "base_uri": "https://localhost:8080/"
        },
        "id": "NiJPH-ppq3Cj",
        "outputId": "36311f10-c223-4c33-b6cb-77bd99903053"
      },
      "source": [
        "nltk.download(\"stopwords\")"
      ],
      "execution_count": 25,
      "outputs": [
        {
          "output_type": "stream",
          "text": [
            "[nltk_data] Downloading package stopwords to /root/nltk_data...\n",
            "[nltk_data]   Unzipping corpora/stopwords.zip.\n"
          ],
          "name": "stdout"
        },
        {
          "output_type": "execute_result",
          "data": {
            "text/plain": [
              "True"
            ]
          },
          "metadata": {
            "tags": []
          },
          "execution_count": 25
        }
      ]
    },
    {
      "cell_type": "code",
      "metadata": {
        "id": "uvShlpPHq6dC"
      },
      "source": [
        "stopwords_list = stopwords.words('english')"
      ],
      "execution_count": 26,
      "outputs": []
    },
    {
      "cell_type": "code",
      "metadata": {
        "colab": {
          "base_uri": "https://localhost:8080/",
          "height": 100
        },
        "id": "I2HEdJiBq-jE",
        "outputId": "608e99e2-19c6-49d3-fab9-06afe22f3500"
      },
      "source": [
        "\", \".join(stopwords.words('english'))"
      ],
      "execution_count": 27,
      "outputs": [
        {
          "output_type": "execute_result",
          "data": {
            "application/vnd.google.colaboratory.intrinsic+json": {
              "type": "string"
            },
            "text/plain": [
              "\"i, me, my, myself, we, our, ours, ourselves, you, you're, you've, you'll, you'd, your, yours, yourself, yourselves, he, him, his, himself, she, she's, her, hers, herself, it, it's, its, itself, they, them, their, theirs, themselves, what, which, who, whom, this, that, that'll, these, those, am, is, are, was, were, be, been, being, have, has, had, having, do, does, did, doing, a, an, the, and, but, if, or, because, as, until, while, of, at, by, for, with, about, against, between, into, through, during, before, after, above, below, to, from, up, down, in, out, on, off, over, under, again, further, then, once, here, there, when, where, why, how, all, any, both, each, few, more, most, other, some, such, no, nor, not, only, own, same, so, than, too, very, s, t, can, will, just, don, don't, should, should've, now, d, ll, m, o, re, ve, y, ain, aren, aren't, couldn, couldn't, didn, didn't, doesn, doesn't, hadn, hadn't, hasn, hasn't, haven, haven't, isn, isn't, ma, mightn, mightn't, mustn, mustn't, needn, needn't, shan, shan't, shouldn, shouldn't, wasn, wasn't, weren, weren't, won, won't, wouldn, wouldn't\""
            ]
          },
          "metadata": {
            "tags": []
          },
          "execution_count": 27
        }
      ]
    },
    {
      "cell_type": "code",
      "metadata": {
        "colab": {
          "base_uri": "https://localhost:8080/"
        },
        "id": "cfnEktKxc9vQ",
        "outputId": "c8641a0a-c862-4d0f-c2ab-f037a0092e88"
      },
      "source": [
        "STOPWORDS = set(stopwords.words('english'))\n",
        "def cleaning_stopwords(text):\n",
        "    return \" \".join([word for word in str(text).split() if word not in STOPWORDS])\n",
        "data['text'] = data['text'].apply(lambda text: cleaning_stopwords(text))\n",
        "data['text'].head()"
      ],
      "execution_count": 28,
      "outputs": [
        {
          "output_type": "execute_result",
          "data": {
            "text/plain": [
              "0    upset can't update facebook texting it... migh...\n",
              "1    @kenichan dived many times ball. managed save ...\n",
              "2                     whole body feels itchy like fire\n",
              "3    @nationwideclass no, behaving all. i'm mad. he...\n",
              "4                                 @kwesidei whole crew\n",
              "Name: text, dtype: object"
            ]
          },
          "metadata": {
            "tags": []
          },
          "execution_count": 28
        }
      ]
    },
    {
      "cell_type": "code",
      "metadata": {
        "id": "HvURWmTIsF-t"
      },
      "source": [
        "english_punctuations = string.punctuation\n",
        "punctuations_list = english_punctuations\n",
        "def cleaning_punctuations(text):\n",
        "    translator = str.maketrans('', '', punctuations_list)\n",
        "    return text.translate(translator)"
      ],
      "execution_count": 29,
      "outputs": []
    },
    {
      "cell_type": "code",
      "metadata": {
        "id": "k0Q3AwFTsQy7"
      },
      "source": [
        "data['text']= data['text'].apply(lambda x: cleaning_punctuations(x))"
      ],
      "execution_count": 30,
      "outputs": []
    },
    {
      "cell_type": "code",
      "metadata": {
        "colab": {
          "base_uri": "https://localhost:8080/"
        },
        "id": "Mm-1puAIsVov",
        "outputId": "f518b272-acaf-4cfa-b0d8-ed611910adaf"
      },
      "source": [
        "print(data['text'])"
      ],
      "execution_count": 31,
      "outputs": [
        {
          "output_type": "stream",
          "text": [
            "0          upset cant update facebook texting it might cr...\n",
            "1          kenichan dived many times ball managed save 50...\n",
            "2                           whole body feels itchy like fire\n",
            "3          nationwideclass no behaving all im mad here ca...\n",
            "4                                        kwesidei whole crew\n",
            "                                 ...                        \n",
            "1599994                     woke up school best feeling ever\n",
            "1599995    thewdbcom  cool hear old walt interviews â« h...\n",
            "1599996                      ready mojo makeover ask details\n",
            "1599997    happy 38th birthday boo alll time tupac amaru ...\n",
            "1599998    happy charitytuesday thenspcc sparkscharity sp...\n",
            "Name: text, Length: 1599999, dtype: object\n"
          ],
          "name": "stdout"
        }
      ]
    },
    {
      "cell_type": "code",
      "metadata": {
        "id": "2kKHLqZosZb_"
      },
      "source": [
        "def cleaning_repeating_char(text):\n",
        "    return re.sub(r'(.)\\1+', r'\\1', text)"
      ],
      "execution_count": 32,
      "outputs": []
    },
    {
      "cell_type": "code",
      "metadata": {
        "id": "tvV7WyxNstQd"
      },
      "source": [
        "data['text']= data['text'].apply(lambda x: cleaning_repeating_char(x))"
      ],
      "execution_count": 33,
      "outputs": []
    },
    {
      "cell_type": "code",
      "metadata": {
        "colab": {
          "base_uri": "https://localhost:8080/"
        },
        "id": "AQTY9MItsvN6",
        "outputId": "67d2ac66-e1e1-41ba-de08-3cfca6c8913f"
      },
      "source": [
        "print(data['text'])"
      ],
      "execution_count": 34,
      "outputs": [
        {
          "output_type": "stream",
          "text": [
            "0          upset cant update facebok texting it might cry...\n",
            "1          kenichan dived many times bal managed save 50 ...\n",
            "2                            whole body fels itchy like fire\n",
            "3          nationwideclas no behaving al im mad here cant...\n",
            "4                                        kwesidei whole crew\n",
            "                                 ...                        \n",
            "1599994                       woke up schol best feling ever\n",
            "1599995    thewdbcom col hear old walt interviews â« htp...\n",
            "1599996                      ready mojo makeover ask details\n",
            "1599997     hapy 38th birthday bo al time tupac amaru shakur\n",
            "1599998    hapy charitytuesday thenspc sparkscharity spea...\n",
            "Name: text, Length: 1599999, dtype: object\n"
          ],
          "name": "stdout"
        }
      ]
    },
    {
      "cell_type": "code",
      "metadata": {
        "id": "6nwNsnbRs4ig"
      },
      "source": [
        "def cleaning_email(data):\n",
        "    return re.sub('@[^\\s]+', ' ', data)"
      ],
      "execution_count": 35,
      "outputs": []
    },
    {
      "cell_type": "code",
      "metadata": {
        "id": "o_4U60A9s_1C"
      },
      "source": [
        "data['text']= data['text'].apply(lambda x: cleaning_email(x))"
      ],
      "execution_count": 36,
      "outputs": []
    },
    {
      "cell_type": "code",
      "metadata": {
        "colab": {
          "base_uri": "https://localhost:8080/"
        },
        "id": "hbM4L56HtFYF",
        "outputId": "5ba5b374-84e0-4499-8fb1-e969edc230c6"
      },
      "source": [
        "print(data['text'])"
      ],
      "execution_count": 37,
      "outputs": [
        {
          "output_type": "stream",
          "text": [
            "0          upset cant update facebok texting it might cry...\n",
            "1          kenichan dived many times bal managed save 50 ...\n",
            "2                            whole body fels itchy like fire\n",
            "3          nationwideclas no behaving al im mad here cant...\n",
            "4                                        kwesidei whole crew\n",
            "                                 ...                        \n",
            "1599994                       woke up schol best feling ever\n",
            "1599995    thewdbcom col hear old walt interviews â« htp...\n",
            "1599996                      ready mojo makeover ask details\n",
            "1599997     hapy 38th birthday bo al time tupac amaru shakur\n",
            "1599998    hapy charitytuesday thenspc sparkscharity spea...\n",
            "Name: text, Length: 1599999, dtype: object\n"
          ],
          "name": "stdout"
        }
      ]
    },
    {
      "cell_type": "code",
      "metadata": {
        "id": "1NHBf-65tH9I"
      },
      "source": [
        "def cleaning_URLs(data):\n",
        "    return re.sub('((www\\.[^\\s]+)|(https?://[^\\s]+))',' ',data)"
      ],
      "execution_count": 38,
      "outputs": []
    },
    {
      "cell_type": "code",
      "metadata": {
        "id": "GFFnX9pwtMxC"
      },
      "source": [
        "data['text']= data['text'].apply(lambda x: cleaning_URLs(x))"
      ],
      "execution_count": 39,
      "outputs": []
    },
    {
      "cell_type": "code",
      "metadata": {
        "colab": {
          "base_uri": "https://localhost:8080/"
        },
        "id": "ePKHHbXFtTl0",
        "outputId": "a6312865-0f4d-4e8e-81cd-030c099f6fb5"
      },
      "source": [
        "print(data['text'])"
      ],
      "execution_count": 40,
      "outputs": [
        {
          "output_type": "stream",
          "text": [
            "0          upset cant update facebok texting it might cry...\n",
            "1          kenichan dived many times bal managed save 50 ...\n",
            "2                            whole body fels itchy like fire\n",
            "3          nationwideclas no behaving al im mad here cant...\n",
            "4                                        kwesidei whole crew\n",
            "                                 ...                        \n",
            "1599994                       woke up schol best feling ever\n",
            "1599995    thewdbcom col hear old walt interviews â« htp...\n",
            "1599996                      ready mojo makeover ask details\n",
            "1599997     hapy 38th birthday bo al time tupac amaru shakur\n",
            "1599998    hapy charitytuesday thenspc sparkscharity spea...\n",
            "Name: text, Length: 1599999, dtype: object\n"
          ],
          "name": "stdout"
        }
      ]
    },
    {
      "cell_type": "code",
      "metadata": {
        "id": "5_9r_9drtV6U"
      },
      "source": [
        "def cleaning_numbers(data):\n",
        "    return re.sub('[0-9]+', '', data)\n"
      ],
      "execution_count": 41,
      "outputs": []
    },
    {
      "cell_type": "code",
      "metadata": {
        "id": "RpmnCLdtta8g"
      },
      "source": [
        "data['text']= data['text'].apply(lambda x: cleaning_numbers(x))"
      ],
      "execution_count": 42,
      "outputs": []
    },
    {
      "cell_type": "code",
      "metadata": {
        "colab": {
          "base_uri": "https://localhost:8080/"
        },
        "id": "pzER9rGatgJS",
        "outputId": "c7a11e23-21ab-476e-d74e-5241580788d5"
      },
      "source": [
        "print(data['text'])"
      ],
      "execution_count": 43,
      "outputs": [
        {
          "output_type": "stream",
          "text": [
            "0          upset cant update facebok texting it might cry...\n",
            "1          kenichan dived many times bal managed save  re...\n",
            "2                            whole body fels itchy like fire\n",
            "3          nationwideclas no behaving al im mad here cant...\n",
            "4                                        kwesidei whole crew\n",
            "                                 ...                        \n",
            "1599994                       woke up schol best feling ever\n",
            "1599995    thewdbcom col hear old walt interviews â« htp...\n",
            "1599996                      ready mojo makeover ask details\n",
            "1599997       hapy th birthday bo al time tupac amaru shakur\n",
            "1599998    hapy charitytuesday thenspc sparkscharity spea...\n",
            "Name: text, Length: 1599999, dtype: object\n"
          ],
          "name": "stdout"
        }
      ]
    },
    {
      "cell_type": "code",
      "metadata": {
        "id": "G3yo7WqDtk1W"
      },
      "source": [
        "tokenizer = RegexpTokenizer(r'\\w+')\n",
        "data['text'] = data['text'].apply(tokenizer.tokenize)\n"
      ],
      "execution_count": 44,
      "outputs": []
    },
    {
      "cell_type": "code",
      "metadata": {
        "colab": {
          "base_uri": "https://localhost:8080/"
        },
        "id": "Z7cpJRMUt5bC",
        "outputId": "cf12f315-e527-479d-ba82-1694e90fe73c"
      },
      "source": [
        "data['text'].head()"
      ],
      "execution_count": 45,
      "outputs": [
        {
          "output_type": "execute_result",
          "data": {
            "text/plain": [
              "0    [upset, cant, update, facebok, texting, it, mi...\n",
              "1    [kenichan, dived, many, times, bal, managed, s...\n",
              "2               [whole, body, fels, itchy, like, fire]\n",
              "3    [nationwideclas, no, behaving, al, im, mad, he...\n",
              "4                              [kwesidei, whole, crew]\n",
              "Name: text, dtype: object"
            ]
          },
          "metadata": {
            "tags": []
          },
          "execution_count": 45
        }
      ]
    },
    {
      "cell_type": "code",
      "metadata": {
        "id": "zTkYp4bjt_gH"
      },
      "source": [
        "st = nltk.PorterStemmer()\n",
        "def stemming_on_text(data):\n",
        "    text = [st.stem(word) for word in data]\n",
        "    return data\n",
        "\n",
        "data['text']= data['text'].apply(lambda x: stemming_on_text(x))"
      ],
      "execution_count": 46,
      "outputs": []
    },
    {
      "cell_type": "code",
      "metadata": {
        "colab": {
          "base_uri": "https://localhost:8080/"
        },
        "id": "xfZc0pbrUlqU",
        "outputId": "b38f5241-2032-44be-9029-8f2882d99be5"
      },
      "source": [
        "data['text'].head()"
      ],
      "execution_count": 47,
      "outputs": [
        {
          "output_type": "execute_result",
          "data": {
            "text/plain": [
              "0    [upset, cant, update, facebok, texting, it, mi...\n",
              "1    [kenichan, dived, many, times, bal, managed, s...\n",
              "2               [whole, body, fels, itchy, like, fire]\n",
              "3    [nationwideclas, no, behaving, al, im, mad, he...\n",
              "4                              [kwesidei, whole, crew]\n",
              "Name: text, dtype: object"
            ]
          },
          "metadata": {
            "tags": []
          },
          "execution_count": 47
        }
      ]
    },
    {
      "cell_type": "code",
      "metadata": {
        "colab": {
          "base_uri": "https://localhost:8080/"
        },
        "id": "D1MnZNAoY6Zy",
        "outputId": "dc3756eb-1bab-4c37-9112-83f4ee1f230b"
      },
      "source": [
        "\n",
        "import nltk\n",
        "nltk.download('wordnet')"
      ],
      "execution_count": 48,
      "outputs": [
        {
          "output_type": "stream",
          "text": [
            "[nltk_data] Downloading package wordnet to /root/nltk_data...\n",
            "[nltk_data]   Unzipping corpora/wordnet.zip.\n"
          ],
          "name": "stdout"
        },
        {
          "output_type": "execute_result",
          "data": {
            "text/plain": [
              "True"
            ]
          },
          "metadata": {
            "tags": []
          },
          "execution_count": 48
        }
      ]
    },
    {
      "cell_type": "code",
      "metadata": {
        "id": "SEcmsyaKVtFx"
      },
      "source": [
        "lm = nltk.WordNetLemmatizer()\n",
        "def lemmatizer_on_text(data):\n",
        "    text = [lm.lemmatize(word) for word in data]\n",
        "    return data\n",
        "\n",
        "data['text'] = data['text'].apply(lambda x: lemmatizer_on_text(x))\n"
      ],
      "execution_count": 49,
      "outputs": []
    },
    {
      "cell_type": "code",
      "metadata": {
        "colab": {
          "base_uri": "https://localhost:8080/"
        },
        "id": "LsMpg3mOY108",
        "outputId": "e75543c7-b71c-4694-9639-5fb9b2267d6b"
      },
      "source": [
        "data['text'].head()"
      ],
      "execution_count": 50,
      "outputs": [
        {
          "output_type": "execute_result",
          "data": {
            "text/plain": [
              "0    [upset, cant, update, facebok, texting, it, mi...\n",
              "1    [kenichan, dived, many, times, bal, managed, s...\n",
              "2               [whole, body, fels, itchy, like, fire]\n",
              "3    [nationwideclas, no, behaving, al, im, mad, he...\n",
              "4                              [kwesidei, whole, crew]\n",
              "Name: text, dtype: object"
            ]
          },
          "metadata": {
            "tags": []
          },
          "execution_count": 50
        }
      ]
    },
    {
      "cell_type": "code",
      "metadata": {
        "colab": {
          "base_uri": "https://localhost:8080/"
        },
        "id": "uBHsWiDsZaem",
        "outputId": "3cbfd1ab-7431-47bd-d06a-68323793723e"
      },
      "source": [
        "X = data['text']\n",
        "print(X)"
      ],
      "execution_count": 51,
      "outputs": [
        {
          "output_type": "stream",
          "text": [
            "0          [upset, cant, update, facebok, texting, it, mi...\n",
            "1          [kenichan, dived, many, times, bal, managed, s...\n",
            "2                     [whole, body, fels, itchy, like, fire]\n",
            "3          [nationwideclas, no, behaving, al, im, mad, he...\n",
            "4                                    [kwesidei, whole, crew]\n",
            "                                 ...                        \n",
            "1599994                [woke, up, schol, best, feling, ever]\n",
            "1599995    [thewdbcom, col, hear, old, walt, interviews, ...\n",
            "1599996                [ready, mojo, makeover, ask, details]\n",
            "1599997    [hapy, th, birthday, bo, al, time, tupac, amar...\n",
            "1599998    [hapy, charitytuesday, thenspc, sparkscharity,...\n",
            "Name: text, Length: 1599999, dtype: object\n"
          ],
          "name": "stdout"
        }
      ]
    },
    {
      "cell_type": "code",
      "metadata": {
        "colab": {
          "base_uri": "https://localhost:8080/"
        },
        "id": "oZW8jrILZ5Fk",
        "outputId": "8f574625-4b97-4459-d641-345c241ca59b"
      },
      "source": [
        "Y = data['label']\n",
        "print(Y)"
      ],
      "execution_count": 52,
      "outputs": [
        {
          "output_type": "stream",
          "text": [
            "0          0\n",
            "1          0\n",
            "2          0\n",
            "3          0\n",
            "4          0\n",
            "          ..\n",
            "1599994    1\n",
            "1599995    1\n",
            "1599996    1\n",
            "1599997    1\n",
            "1599998    1\n",
            "Name: label, Length: 1599999, dtype: int64\n"
          ],
          "name": "stdout"
        }
      ]
    },
    {
      "cell_type": "code",
      "metadata": {
        "colab": {
          "base_uri": "https://localhost:8080/"
        },
        "id": "trjVZrQXZ7cb",
        "outputId": "2c57dbad-ef52-4170-d1ed-aff296cf6d9f"
      },
      "source": [
        "max_len = 500\n",
        "tok = Tokenizer(num_words=2000)\n",
        "tok.fit_on_texts(X)\n",
        "sequences = tok.texts_to_sequences(X)\n",
        "sequences_matrix = sequence.pad_sequences(sequences,maxlen=max_len)\n",
        "sequences_matrix.shape"
      ],
      "execution_count": 53,
      "outputs": [
        {
          "output_type": "execute_result",
          "data": {
            "text/plain": [
              "(1599999, 500)"
            ]
          },
          "metadata": {
            "tags": []
          },
          "execution_count": 53
        }
      ]
    },
    {
      "cell_type": "code",
      "metadata": {
        "id": "25A7PGRNaOjZ"
      },
      "source": [
        "X_train, X_test, Y_train, Y_test = train_test_split(sequences_matrix, Y, test_size = 0.3, random_state = 42)"
      ],
      "execution_count": 54,
      "outputs": []
    },
    {
      "cell_type": "code",
      "metadata": {
        "id": "OVWIoke6pcsr"
      },
      "source": [
        "def tf_based_model():\n",
        "  inputs = Input(name='inputs',shape=[max_len])\n",
        "  layer = Embedding(2000,50,input_length=max_len)(inputs) \n",
        "  layer = LSTM(64)(layer) \n",
        "  layer = Dense(256,name='FC1')(layer) \n",
        "  layer = Activation('relu')(layer) \n",
        "  layer = Dropout(0.5)(layer)\n",
        "  layer = Dense(1,name='out_layer')(layer)\n",
        "  layer = Activation('sigmoid')(layer)\n",
        "  model = Model(inputs=inputs,outputs=layer)\n",
        "  return model "
      ],
      "execution_count": 55,
      "outputs": []
    },
    {
      "cell_type": "code",
      "metadata": {
        "id": "mfLQOqysxQHK"
      },
      "source": [
        "model = tf_based_model()\n",
        "model.compile(loss='binary_crossentropy',optimizer=RMSprop(),metrics=['accuracy'])  "
      ],
      "execution_count": 56,
      "outputs": []
    },
    {
      "cell_type": "code",
      "metadata": {
        "colab": {
          "base_uri": "https://localhost:8080/"
        },
        "id": "LrpeeSiXxv_O",
        "outputId": "d826c1d8-0377-4867-a673-10a17951dd5d"
      },
      "source": [
        "history=model.fit(X_train,Y_train,batch_size=80,epochs=4, validation_split=0.1)\n"
      ],
      "execution_count": 58,
      "outputs": [
        {
          "output_type": "stream",
          "text": [
            "Epoch 1/4\n",
            "12600/12600 [==============================] - 5477s 435ms/step - loss: 0.4790 - accuracy: 0.7698 - val_loss: 0.4742 - val_accuracy: 0.7697\n",
            "Epoch 2/4\n",
            "12600/12600 [==============================] - 5493s 436ms/step - loss: 0.5625 - accuracy: 0.7644 - val_loss: 0.4904 - val_accuracy: 0.7624\n",
            "Epoch 3/4\n",
            "12600/12600 [==============================] - 5510s 437ms/step - loss: 0.5086 - accuracy: 0.7657 - val_loss: 0.4863 - val_accuracy: 0.7683\n",
            "Epoch 4/4\n",
            "12600/12600 [==============================] - 5566s 442ms/step - loss: 0.4865 - accuracy: 0.7689 - val_loss: 0.4801 - val_accuracy: 0.7688\n"
          ],
          "name": "stdout"
        }
      ]
    },
    {
      "cell_type": "code",
      "metadata": {
        "colab": {
          "base_uri": "https://localhost:8080/"
        },
        "id": "ZCVkGS8KyHgK",
        "outputId": "f914d4b7-b92e-4c4c-d153-9b39246b3f16"
      },
      "source": [
        "accr1 = model.evaluate(X_test,Y_test)\n"
      ],
      "execution_count": null,
      "outputs": [
        {
          "output_type": "stream",
          "text": [
            "15000/15000 [==============================] - 799s 53ms/step - loss: 0.6930 - accuracy: 0.5039\n"
          ],
          "name": "stdout"
        }
      ]
    },
    {
      "cell_type": "code",
      "metadata": {
        "colab": {
          "base_uri": "https://localhost:8080/"
        },
        "id": "TdpiEwA4Oa7V",
        "outputId": "c60f477f-8ff0-4639-d3b0-4ba71b811ce1"
      },
      "source": [
        "print('Test set\\n  Accuracy: {:0.2f}'.format(accr1[1]))\n"
      ],
      "execution_count": null,
      "outputs": [
        {
          "output_type": "stream",
          "text": [
            "Test set\n",
            "  Accuracy: 0.50\n"
          ],
          "name": "stdout"
        }
      ]
    },
    {
      "cell_type": "code",
      "metadata": {
        "id": "C4YyEmm0SHlR"
      },
      "source": [
        "y_pred = model.predict(X_test) #getting predictions on the trained model\n",
        "y_pred = (y_pred > 0.5) "
      ],
      "execution_count": null,
      "outputs": []
    },
    {
      "cell_type": "code",
      "metadata": {
        "colab": {
          "base_uri": "https://localhost:8080/",
          "height": 727
        },
        "id": "gfLEXylFSUhx",
        "outputId": "afc42b26-e5d0-46ef-f8ec-b579d91bf9e1"
      },
      "source": [
        "print('\\n')\n",
        "print(\"confusion matrix\")\n",
        "print('\\n')\n",
        "CR=confusion_matrix(Y_test, y_pred)\n",
        "print(CR)\n",
        "print('\\n')\n",
        "\n",
        "fig, ax = plot_confusion_matrix(conf_mat=CR,figsize=(10, 10),\n",
        "                                show_absolute=True,\n",
        "                                show_normed=True,\n",
        "                                colorbar=True)\n",
        "plt.show()\n"
      ],
      "execution_count": null,
      "outputs": [
        {
          "output_type": "stream",
          "text": [
            "\n",
            "\n",
            "confusion matrix\n",
            "\n",
            "\n",
            "[[ 54088 185273]\n",
            " [ 51884 188755]]\n",
            "\n",
            "\n"
          ],
          "name": "stdout"
        },
        {
          "output_type": "display_data",
          "data": {
            "image/png": "[encoded data removed]",
            "text/plain": [
              "<Figure size 720x720 with 2 Axes>"
            ]
          },
          "metadata": {
            "tags": [],
            "needs_background": "light"
          }
        }
      ]
    },
    {
      "cell_type": "code",
      "metadata": {
        "id": "wHASi1TpR1py"
      },
      "source": [
        "from sklearn.metrics import roc_curve, auc, roc_auc_score"
      ],
      "execution_count": null,
      "outputs": []
    },
    {
      "cell_type": "code",
      "metadata": {
        "colab": {
          "base_uri": "https://localhost:8080/",
          "height": 299
        },
        "id": "g_z1j4D4WJa6",
        "outputId": "8cf2c250-a0c6-4921-968a-853eb97f51bf"
      },
      "source": [
        "fpr, tpr, thresholds = roc_curve(Y_test, y_pred)\n",
        "roc_auc = auc(fpr, tpr)\n",
        "plt.figure()\n",
        "plt.plot(fpr, tpr, color='darkorange', lw=1, label='ROC curve (area = %0.2f)' % roc_auc)\n",
        "plt.xlim([0.0, 1.0])\n",
        "plt.ylim([0.0, 1.05])\n",
        "plt.xlabel('False Positive Rate')\n",
        "plt.ylabel('True Positive Rate')\n",
        "plt.title('ROC CURVE')\n",
        "plt.legend(loc=\"lower right\")\n",
        "plt.show()"
      ],
      "execution_count": null,
      "outputs": [
        {
          "output_type": "display_data",
          "data": {
            "image/png": "[encoded data removed]",
            "text/plain": [
              "<Figure size 432x288 with 1 Axes>"
            ]
          },
          "metadata": {
            "tags": [],
            "needs_background": "light"
          }
        }
      ]
    },
    {
      "cell_type": "code",
      "metadata": {
        "id": "Ekvkwz9bWQMI"
      },
      "source": [
        ""
      ],
      "execution_count": null,
      "outputs": []
    }
  ]
}